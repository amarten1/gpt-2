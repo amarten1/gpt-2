{
  "nbformat": 4,
  "nbformat_minor": 0,
  "metadata": {
    "colab": {
      "name": "gpt-2.ipynb",
      "provenance": [],
      "include_colab_link": true
    },
    "kernelspec": {
      "name": "python3",
      "display_name": "Python 3"
    },
    "accelerator": "GPU"
  },
  "cells": [
    {
      "cell_type": "markdown",
      "metadata": {
        "id": "view-in-github",
        "colab_type": "text"
      },
      "source": [
        "<a href=\"https://colab.research.google.com/github/amarten1/gpt-2/blob/master/gpt_2.ipynb\" target=\"_parent\"><img src=\"https://colab.research.google.com/assets/colab-badge.svg\" alt=\"Open In Colab\"/></a>"
      ]
    },
    {
      "cell_type": "markdown",
      "metadata": {
        "id": "NSqIi320I4gm"
      },
      "source": [
        "GPT-2 Colab"
      ]
    },
    {
      "cell_type": "markdown",
      "metadata": {
        "id": "n6m4azWJq7yA"
      },
      "source": [
        "Clone git"
      ]
    },
    {
      "cell_type": "code",
      "metadata": {
        "id": "EjyF3LwTq3cr",
        "colab": {
          "base_uri": "https://localhost:8080/"
        },
        "outputId": "e9190ecf-f86f-457d-e8d7-5e77d9122bca"
      },
      "source": [
        "!git clone https://github.com/amarten1/gpt-2\n",
        "!pip install tensorflow==1.15\n",
        "import tensorflow\n",
        "print(tensorflow.__version__)"
      ],
      "execution_count": 5,
      "outputs": [
        {
          "output_type": "stream",
          "text": [
            "fatal: destination path 'gpt-2' already exists and is not an empty directory.\n",
            "Requirement already satisfied: tensorflow==1.15 in /usr/local/lib/python3.6/dist-packages (1.15.0)\n",
            "Requirement already satisfied: termcolor>=1.1.0 in /usr/local/lib/python3.6/dist-packages (from tensorflow==1.15) (1.1.0)\n",
            "Requirement already satisfied: opt-einsum>=2.3.2 in /usr/local/lib/python3.6/dist-packages (from tensorflow==1.15) (3.3.0)\n",
            "Requirement already satisfied: google-pasta>=0.1.6 in /usr/local/lib/python3.6/dist-packages (from tensorflow==1.15) (0.2.0)\n",
            "Requirement already satisfied: gast==0.2.2 in /usr/local/lib/python3.6/dist-packages (from tensorflow==1.15) (0.2.2)\n",
            "Requirement already satisfied: protobuf>=3.6.1 in /usr/local/lib/python3.6/dist-packages (from tensorflow==1.15) (3.12.4)\n",
            "Requirement already satisfied: absl-py>=0.7.0 in /usr/local/lib/python3.6/dist-packages (from tensorflow==1.15) (0.10.0)\n",
            "Requirement already satisfied: wheel>=0.26 in /usr/local/lib/python3.6/dist-packages (from tensorflow==1.15) (0.35.1)\n",
            "Requirement already satisfied: six>=1.10.0 in /usr/local/lib/python3.6/dist-packages (from tensorflow==1.15) (1.15.0)\n",
            "Requirement already satisfied: keras-applications>=1.0.8 in /usr/local/lib/python3.6/dist-packages (from tensorflow==1.15) (1.0.8)\n",
            "Requirement already satisfied: tensorflow-estimator==1.15.1 in /usr/local/lib/python3.6/dist-packages (from tensorflow==1.15) (1.15.1)\n",
            "Requirement already satisfied: astor>=0.6.0 in /usr/local/lib/python3.6/dist-packages (from tensorflow==1.15) (0.8.1)\n",
            "Requirement already satisfied: keras-preprocessing>=1.0.5 in /usr/local/lib/python3.6/dist-packages (from tensorflow==1.15) (1.1.2)\n",
            "Requirement already satisfied: tensorboard<1.16.0,>=1.15.0 in /usr/local/lib/python3.6/dist-packages (from tensorflow==1.15) (1.15.0)\n",
            "Requirement already satisfied: wrapt>=1.11.1 in /usr/local/lib/python3.6/dist-packages (from tensorflow==1.15) (1.12.1)\n",
            "Requirement already satisfied: grpcio>=1.8.6 in /usr/local/lib/python3.6/dist-packages (from tensorflow==1.15) (1.33.2)\n",
            "Requirement already satisfied: numpy<2.0,>=1.16.0 in /usr/local/lib/python3.6/dist-packages (from tensorflow==1.15) (1.18.5)\n",
            "Requirement already satisfied: setuptools in /usr/local/lib/python3.6/dist-packages (from protobuf>=3.6.1->tensorflow==1.15) (50.3.2)\n",
            "Requirement already satisfied: h5py in /usr/local/lib/python3.6/dist-packages (from keras-applications>=1.0.8->tensorflow==1.15) (2.10.0)\n",
            "Requirement already satisfied: markdown>=2.6.8 in /usr/local/lib/python3.6/dist-packages (from tensorboard<1.16.0,>=1.15.0->tensorflow==1.15) (3.3.3)\n",
            "Requirement already satisfied: werkzeug>=0.11.15 in /usr/local/lib/python3.6/dist-packages (from tensorboard<1.16.0,>=1.15.0->tensorflow==1.15) (1.0.1)\n",
            "Requirement already satisfied: importlib-metadata; python_version < \"3.8\" in /usr/local/lib/python3.6/dist-packages (from markdown>=2.6.8->tensorboard<1.16.0,>=1.15.0->tensorflow==1.15) (2.0.0)\n",
            "Requirement already satisfied: zipp>=0.5 in /usr/local/lib/python3.6/dist-packages (from importlib-metadata; python_version < \"3.8\"->markdown>=2.6.8->tensorboard<1.16.0,>=1.15.0->tensorflow==1.15) (3.4.0)\n",
            "1.15.0\n"
          ],
          "name": "stdout"
        }
      ]
    },
    {
      "cell_type": "code",
      "metadata": {
        "id": "YE6_Bfsv5kCe",
        "colab": {
          "base_uri": "https://localhost:8080/"
        },
        "outputId": "3b73e4b1-f190-4023-cc98-814002a7e05b"
      },
      "source": [
        "!pip install fire\n",
        "!pip install regex"
      ],
      "execution_count": 6,
      "outputs": [
        {
          "output_type": "stream",
          "text": [
            "Collecting fire\n",
            "\u001b[?25l  Downloading https://files.pythonhosted.org/packages/34/a7/0e22e70778aca01a52b9c899d9c145c6396d7b613719cd63db97ffa13f2f/fire-0.3.1.tar.gz (81kB)\n",
            "\r\u001b[K     |████                            | 10kB 27.1MB/s eta 0:00:01\r\u001b[K     |████████                        | 20kB 33.7MB/s eta 0:00:01\r\u001b[K     |████████████▏                   | 30kB 15.5MB/s eta 0:00:01\r\u001b[K     |████████████████▏               | 40kB 11.5MB/s eta 0:00:01\r\u001b[K     |████████████████████▏           | 51kB 8.8MB/s eta 0:00:01\r\u001b[K     |████████████████████████▎       | 61kB 10.2MB/s eta 0:00:01\r\u001b[K     |████████████████████████████▎   | 71kB 9.5MB/s eta 0:00:01\r\u001b[K     |████████████████████████████████| 81kB 6.4MB/s \n",
            "\u001b[?25hRequirement already satisfied: six in /usr/local/lib/python3.6/dist-packages (from fire) (1.15.0)\n",
            "Requirement already satisfied: termcolor in /usr/local/lib/python3.6/dist-packages (from fire) (1.1.0)\n",
            "Building wheels for collected packages: fire\n",
            "  Building wheel for fire (setup.py) ... \u001b[?25l\u001b[?25hdone\n",
            "  Created wheel for fire: filename=fire-0.3.1-py2.py3-none-any.whl size=111005 sha256=71a7ac4522eb9908d63f743675b63cb93df6145bd4cd29620b125d1d13d90557\n",
            "  Stored in directory: /root/.cache/pip/wheels/c1/61/df/768b03527bf006b546dce284eb4249b185669e65afc5fbb2ac\n",
            "Successfully built fire\n",
            "Installing collected packages: fire\n",
            "Successfully installed fire-0.3.1\n",
            "Requirement already satisfied: regex in /usr/local/lib/python3.6/dist-packages (2019.12.20)\n"
          ],
          "name": "stdout"
        }
      ]
    },
    {
      "cell_type": "markdown",
      "metadata": {
        "id": "80ezXltFrji0"
      },
      "source": [
        "Models available\n",
        "\n",
        "*   1558M\n",
        "*   774M\n",
        "*   355M\n",
        "*   124M"
      ]
    },
    {
      "cell_type": "code",
      "metadata": {
        "id": "NPH3u0Ic4YjG"
      },
      "source": [
        "#model parameters\n",
        "MODEL_NAME='355M'\n",
        "\n",
        "#seed none for ramdom, set for repeatability\n",
        "SEED=None\n",
        "\n",
        "#number of samples to return and batch size batch must be divisible by nsamples\n",
        "NSAMPLES=3\n",
        "BATCH_SIZE=1\n",
        "\n",
        "#length of returned text, None default\n",
        "LENGTH=1024\n",
        "\n",
        "#temperature is randomness 0 => repetative, higher more random, default 1\n",
        "TEMPERATURE=1\n",
        "\n",
        "#top k is numberof words considered in each step, 0 is special case for no restricion\n",
        "TOP_K=40\n",
        "\n",
        "TOP_P=1\n",
        "MODELS_DIR='models'"
      ],
      "execution_count": 7,
      "outputs": []
    },
    {
      "cell_type": "code",
      "metadata": {
        "id": "pX2iPRcxrmO1",
        "colab": {
          "base_uri": "https://localhost:8080/"
        },
        "outputId": "ea87b7f4-a8d8-4e8f-eb44-2b16a419cb98"
      },
      "source": [
        "!python gpt-2/download_model.py {MODEL_NAME}"
      ],
      "execution_count": 8,
      "outputs": [
        {
          "output_type": "stream",
          "text": [
            "\rFetching checkpoint:   0%|                                              | 0.00/77.0 [00:00<?, ?it/s]\rFetching checkpoint: 1.00kit [00:00, 1.24Mit/s]                                                     \n",
            "\rFetching encoder.json:   0%|                                           | 0.00/1.04M [00:00<?, ?it/s]\rFetching encoder.json: 1.04Mit [00:00, 65.0Mit/s]                                                   \n",
            "Fetching hparams.json: 1.00kit [00:00, 1.27Mit/s]                                                   \n",
            "Fetching model.ckpt.data-00000-of-00001: 1.42Git [00:17, 82.9Mit/s]                                 \n",
            "Fetching model.ckpt.index: 11.0kit [00:00, 9.42Mit/s]                                               \n",
            "Fetching model.ckpt.meta: 927kit [00:00, 52.9Mit/s]                                                 \n",
            "Fetching vocab.bpe: 457kit [00:00, 50.9Mit/s]                                                       \n"
          ],
          "name": "stdout"
        }
      ]
    },
    {
      "cell_type": "markdown",
      "metadata": {
        "id": "A3fsS5iiS_Xn"
      },
      "source": [
        "To run with input"
      ]
    },
    {
      "cell_type": "code",
      "metadata": {
        "id": "UB0RQbwv5TEw",
        "colab": {
          "base_uri": "https://localhost:8080/"
        },
        "outputId": "aa6e3496-9657-43ba-9749-b95b811e4747"
      },
      "source": [
        "!python gpt-2/src/interactive_conditional_samples.py {MODEL_NAME} {SEED} {NSAMPLES} {BATCH_SIZE} \\\n",
        "  {LENGTH} {TEMPERATURE} {TOP_K} {TOP_P} {MODELS_DIR}"
      ],
      "execution_count": 6,
      "outputs": [
        {
          "output_type": "stream",
          "text": [
            "2020-11-24 15:59:59.915568: I tensorflow/stream_executor/platform/default/dso_loader.cc:48] Successfully opened dynamic library libcudart.so.10.1\n",
            "Traceback (most recent call last):\n",
            "  File \"gpt-2/src/interactive_conditional_samples.py\", line 9, in <module>\n",
            "    import model, sample, encoder\n",
            "  File \"/content/gpt-2/src/model.py\", line 3, in <module>\n",
            "    from tensorflow.contrib.training import HParams\n",
            "ModuleNotFoundError: No module named 'tensorflow.contrib'\n"
          ],
          "name": "stdout"
        }
      ]
    },
    {
      "cell_type": "markdown",
      "metadata": {
        "id": "l6TolHa1TFOV"
      },
      "source": [
        "To run without input"
      ]
    },
    {
      "cell_type": "code",
      "metadata": {
        "id": "0ut-QHDtTHn8",
        "colab": {
          "base_uri": "https://localhost:8080/"
        },
        "outputId": "393528e1-f4f9-4f40-e26e-a361c2990252"
      },
      "source": [
        "!python gpt-2/src/generate_unconditional_samples.py {MODEL_NAME} {SEED} {NSAMPLES} {BATCH_SIZE} \\\n",
        "  {LENGTH} {TEMPERATURE} {TOP_K} {TOP_P} {MODELS_DIR}"
      ],
      "execution_count": 11,
      "outputs": [
        {
          "output_type": "stream",
          "text": [
            "WARNING:tensorflow:From gpt-2/src/generate_unconditional_samples.py:54: The name tf.Session is deprecated. Please use tf.compat.v1.Session instead.\n",
            "\n",
            "2020-11-24 16:18:07.303124: I tensorflow/stream_executor/platform/default/dso_loader.cc:44] Successfully opened dynamic library libcuda.so.1\n",
            "2020-11-24 16:18:07.335946: I tensorflow/stream_executor/cuda/cuda_gpu_executor.cc:983] successful NUMA node read from SysFS had negative value (-1), but there must be at least one NUMA node, so returning NUMA node zero\n",
            "2020-11-24 16:18:07.336515: I tensorflow/core/common_runtime/gpu/gpu_device.cc:1618] Found device 0 with properties: \n",
            "name: Tesla T4 major: 7 minor: 5 memoryClockRate(GHz): 1.59\n",
            "pciBusID: 0000:00:04.0\n",
            "2020-11-24 16:18:07.336775: I tensorflow/stream_executor/platform/default/dso_loader.cc:44] Successfully opened dynamic library libcudart.so.10.0\n",
            "2020-11-24 16:18:07.337761: I tensorflow/stream_executor/platform/default/dso_loader.cc:44] Successfully opened dynamic library libcublas.so.10.0\n",
            "2020-11-24 16:18:07.338885: I tensorflow/stream_executor/platform/default/dso_loader.cc:44] Successfully opened dynamic library libcufft.so.10.0\n",
            "2020-11-24 16:18:07.339200: I tensorflow/stream_executor/platform/default/dso_loader.cc:44] Successfully opened dynamic library libcurand.so.10.0\n",
            "2020-11-24 16:18:07.340630: I tensorflow/stream_executor/platform/default/dso_loader.cc:44] Successfully opened dynamic library libcusolver.so.10.0\n",
            "2020-11-24 16:18:07.341592: I tensorflow/stream_executor/platform/default/dso_loader.cc:44] Successfully opened dynamic library libcusparse.so.10.0\n",
            "2020-11-24 16:18:07.344385: I tensorflow/stream_executor/platform/default/dso_loader.cc:44] Successfully opened dynamic library libcudnn.so.7\n",
            "2020-11-24 16:18:07.344537: I tensorflow/stream_executor/cuda/cuda_gpu_executor.cc:983] successful NUMA node read from SysFS had negative value (-1), but there must be at least one NUMA node, so returning NUMA node zero\n",
            "2020-11-24 16:18:07.345084: I tensorflow/stream_executor/cuda/cuda_gpu_executor.cc:983] successful NUMA node read from SysFS had negative value (-1), but there must be at least one NUMA node, so returning NUMA node zero\n",
            "2020-11-24 16:18:07.345640: I tensorflow/core/common_runtime/gpu/gpu_device.cc:1746] Adding visible gpu devices: 0\n",
            "2020-11-24 16:18:07.345996: I tensorflow/core/platform/cpu_feature_guard.cc:142] Your CPU supports instructions that this TensorFlow binary was not compiled to use: AVX2 FMA\n",
            "2020-11-24 16:18:07.350108: I tensorflow/core/platform/profile_utils/cpu_utils.cc:94] CPU Frequency: 2200000000 Hz\n",
            "2020-11-24 16:18:07.350325: I tensorflow/compiler/xla/service/service.cc:168] XLA service 0x2f21640 initialized for platform Host (this does not guarantee that XLA will be used). Devices:\n",
            "2020-11-24 16:18:07.350352: I tensorflow/compiler/xla/service/service.cc:176]   StreamExecutor device (0): Host, Default Version\n",
            "2020-11-24 16:18:07.451796: I tensorflow/stream_executor/cuda/cuda_gpu_executor.cc:983] successful NUMA node read from SysFS had negative value (-1), but there must be at least one NUMA node, so returning NUMA node zero\n",
            "2020-11-24 16:18:07.452439: I tensorflow/compiler/xla/service/service.cc:168] XLA service 0x2f20d80 initialized for platform CUDA (this does not guarantee that XLA will be used). Devices:\n",
            "2020-11-24 16:18:07.452469: I tensorflow/compiler/xla/service/service.cc:176]   StreamExecutor device (0): Tesla T4, Compute Capability 7.5\n",
            "2020-11-24 16:18:07.452650: I tensorflow/stream_executor/cuda/cuda_gpu_executor.cc:983] successful NUMA node read from SysFS had negative value (-1), but there must be at least one NUMA node, so returning NUMA node zero\n",
            "2020-11-24 16:18:07.453152: I tensorflow/core/common_runtime/gpu/gpu_device.cc:1618] Found device 0 with properties: \n",
            "name: Tesla T4 major: 7 minor: 5 memoryClockRate(GHz): 1.59\n",
            "pciBusID: 0000:00:04.0\n",
            "2020-11-24 16:18:07.453223: I tensorflow/stream_executor/platform/default/dso_loader.cc:44] Successfully opened dynamic library libcudart.so.10.0\n",
            "2020-11-24 16:18:07.453246: I tensorflow/stream_executor/platform/default/dso_loader.cc:44] Successfully opened dynamic library libcublas.so.10.0\n",
            "2020-11-24 16:18:07.453280: I tensorflow/stream_executor/platform/default/dso_loader.cc:44] Successfully opened dynamic library libcufft.so.10.0\n",
            "2020-11-24 16:18:07.453300: I tensorflow/stream_executor/platform/default/dso_loader.cc:44] Successfully opened dynamic library libcurand.so.10.0\n",
            "2020-11-24 16:18:07.453318: I tensorflow/stream_executor/platform/default/dso_loader.cc:44] Successfully opened dynamic library libcusolver.so.10.0\n",
            "2020-11-24 16:18:07.453340: I tensorflow/stream_executor/platform/default/dso_loader.cc:44] Successfully opened dynamic library libcusparse.so.10.0\n",
            "2020-11-24 16:18:07.453361: I tensorflow/stream_executor/platform/default/dso_loader.cc:44] Successfully opened dynamic library libcudnn.so.7\n",
            "2020-11-24 16:18:07.453442: I tensorflow/stream_executor/cuda/cuda_gpu_executor.cc:983] successful NUMA node read from SysFS had negative value (-1), but there must be at least one NUMA node, so returning NUMA node zero\n",
            "2020-11-24 16:18:07.453968: I tensorflow/stream_executor/cuda/cuda_gpu_executor.cc:983] successful NUMA node read from SysFS had negative value (-1), but there must be at least one NUMA node, so returning NUMA node zero\n",
            "2020-11-24 16:18:07.454455: I tensorflow/core/common_runtime/gpu/gpu_device.cc:1746] Adding visible gpu devices: 0\n",
            "2020-11-24 16:18:07.454519: I tensorflow/stream_executor/platform/default/dso_loader.cc:44] Successfully opened dynamic library libcudart.so.10.0\n",
            "2020-11-24 16:18:07.455622: I tensorflow/core/common_runtime/gpu/gpu_device.cc:1159] Device interconnect StreamExecutor with strength 1 edge matrix:\n",
            "2020-11-24 16:18:07.455650: I tensorflow/core/common_runtime/gpu/gpu_device.cc:1165]      0 \n",
            "2020-11-24 16:18:07.455663: I tensorflow/core/common_runtime/gpu/gpu_device.cc:1178] 0:   N \n",
            "2020-11-24 16:18:07.455771: I tensorflow/stream_executor/cuda/cuda_gpu_executor.cc:983] successful NUMA node read from SysFS had negative value (-1), but there must be at least one NUMA node, so returning NUMA node zero\n",
            "2020-11-24 16:18:07.456292: I tensorflow/stream_executor/cuda/cuda_gpu_executor.cc:983] successful NUMA node read from SysFS had negative value (-1), but there must be at least one NUMA node, so returning NUMA node zero\n",
            "2020-11-24 16:18:07.456795: W tensorflow/core/common_runtime/gpu/gpu_bfc_allocator.cc:39] Overriding allow_growth setting because the TF_FORCE_GPU_ALLOW_GROWTH environment variable is set. Original config value was 0.\n",
            "2020-11-24 16:18:07.456831: I tensorflow/core/common_runtime/gpu/gpu_device.cc:1304] Created TensorFlow device (/job:localhost/replica:0/task:0/device:GPU:0 with 14221 MB memory) -> physical GPU (device: 0, name: Tesla T4, pci bus id: 0000:00:04.0, compute capability: 7.5)\n",
            "WARNING:tensorflow:From gpt-2/src/generate_unconditional_samples.py:56: The name tf.set_random_seed is deprecated. Please use tf.compat.v1.set_random_seed instead.\n",
            "\n",
            "WARNING:tensorflow:From /content/gpt-2/src/sample.py:16: where (from tensorflow.python.ops.array_ops) is deprecated and will be removed in a future version.\n",
            "Instructions for updating:\n",
            "Use tf.where in 2.0, which has the same broadcast rule as np.where\n",
            "WARNING:tensorflow:From gpt-2/src/generate_unconditional_samples.py:65: The name tf.train.Saver is deprecated. Please use tf.compat.v1.train.Saver instead.\n",
            "\n",
            "2020-11-24 16:18:18.465178: I tensorflow/stream_executor/platform/default/dso_loader.cc:44] Successfully opened dynamic library libcublas.so.10.0\n",
            "======================================== SAMPLE 1 ========================================\n",
            "This article covers the latest episode of the TV series The Originals.\n",
            "\n",
            "It was the fourth episode of the first season and it featured the deaths of a number of characters during the season's first half. At the end of the episode, it was revealed that the majority of the victims were killed in an accident during The Originals' mid-season premiere.\n",
            "\n",
            "\n",
            "Contents show]\n",
            "\n",
            "Synopsis\n",
            "\n",
            "In the aftermath of the death of Laurel & Ray, Thea confesses that she was murdered by Ray. However, this reveals that Oliver is unaware that Ray had faked his own death; in actuality it was Thea's death. In order to protect her and her friends, Ray calls in Thea's old friend, Thea King. Thea agrees to try working with Thea in a bid to prevent Thea from becoming his accomplice.\n",
            "\n",
            "Plot\n",
            "\n",
            "Thea discovers a blood trail leading to someone named \"Khalifa\" and goes to investigate. She meets up with Diggle and Thea later together and meets him again a couple weeks later after a short conversation. Diggle tells her about his encounter with Damien Darhk and tells him about a new character being seen in the city as his own alter-ego, Damien Darhk. Diggle tells her about another alter-ego, \"Thakal,\" who is also playing off of another character, \"Kalifa.\" When Diggle tells Thea he has been in contact with both men, she claims that Diggle has been an ally. Thea believes this was just a ploy to steal her information. However, she does mention the possible threat that she could have.\n",
            "\n",
            "Diggle is investigating Darhk again and asks her to take him to the hospital to see a doctor. She goes to leave and calls Diggle and he calls out back telling her not to leave. As Laurel visits Oliver and Damien, he is watching Thea's apartment. Diggle walks over to the door where he meets another woman there. He asks for her name and she admits she does not wish to answer. In order for her to respond, he can ask to see her phone number or phone she answered before it was stolen. He then asks about what she did when she became pregnant with Thea and she replies that she was pregnant for the third time when she returned to L.A. in order for her to not leave the city. At this time, \"Khalifa\" approaches them. He attacks Diggle, causing her to lose her balance. Diggle breaks off his arm and he takes advantage of this by telling her he has seen who was involved with her previous murder, calling in Oliver and saying they will look into this. When Diggle tells her she is an accomplice, she claims she is still alive and asks for his help. Diggle tells her to leave him alone, then she falls to the ground and attempts to grab Thea. This kills her.\n",
            "\n",
            "The new assassin then calls out for Thea after Diggle leaves. Halif kills her, telling her she was wrong to think she saved his partner's life. Halif then kills a cop nearby who is not dead. When Halif tells her that he is the original Oliver Queen, Thea asks if he can have some of her blood. Halif says yes, to which Thea screams \"YOU ARE DEAD TO ME! YOU ARE DEAD TO ME!!\" before Halif kills her. At this point, Diggle arrives and tells Thea that they need to be careful. He says they will take care of her before he makes his move, causing her to lose her balance as he strikes. Thea gets up, but she is too slow and falls again, but she is able to stay at Diggle's side and they walk off together. Diggle then tells Oliver that he has been working with Thea King, a young woman who he saw in the apartment. Diggle tells Oliver he needs to get him home, prompting Oliver to tell him to come take the rest of the gang to the apartment. Oliver later finds Thea and invites her over for dinner in his apartment.\n",
            "\n",
            "Oliver and Thea go together to the apartment after dinner. At home, they both find that Diggle has been injured. This shocks Diggle, as he thinks Thea will kill him in the following minutes. Oliver gets up and invites Diggle to leave the apartment with them to go to the hospital. He tells him to take Thea there as the surgery will be a while.\n",
            "\n",
            "Diggle does so, but takes the gun away and runs out of the apartment. In the ambulance while Thea heals, she finds that Diggle has taken her to her apartment, and then to a hospital and there, she finds it empty. She calls for the gun, but Diggle leaves before she can call the police in the ambulance. The two then arrive at a hospital together. Diggle then tells her how it happened. There was nothing to kill her\n",
            "======================================== SAMPLE 2 ========================================\n",
            "When you're looking for a job at Microsoft that will bring you joy and excitement, you might as well do some online marketing.\n",
            "\n",
            "In fact, it's the primary method of sales that Microsoft uses to attract and retain its customers.\n",
            "\n",
            "To put it kindly, Microsoft is incredibly good at getting the attention of people on its products and services. Microsoft's online marketing team, known as Microsoft SMB Team (MSMBt), gets calls from a whole host of thousands of potential candidates for job offers just as often as Microsoft hires sales people.\n",
            "\n",
            "So what does this mean? Not much. Most of these candidates won't respond to the calls at all, not even when it comes to a promotion. So all those calls, sent out, probably will never make it into the hands of customers.\n",
            "\n",
            "But some calls do, so why should our online marketing team let such negativity creep in? Well, we thought we would talk about some of them.\n",
            "\n",
            "1. Promotions are expensive\n",
            "\n",
            "You can't have it both ways. On the one hand, you can make money online and also receive free services. On the other hand, you can't make money online and receive free services.\n",
            "\n",
            "That said, Microsoft does offer a variety of rewards for both methods (although I wouldn't call them free).\n",
            "\n",
            "Microsoft gives you 10 free Skype calls a month, which is great even though it doesn't deliver very tangible results. That's because these calls are paid services – so they usually cost you money because your payment is part of the marketing effort.\n",
            "\n",
            "Microsoft also gives you an additional 10 free Skype calls each month, but that's still paid and doesn't deliver anything.\n",
            "\n",
            "If your business doesn't pay for these services then you might as well call an actual sales rep and give them your full attention.\n",
            "\n",
            "Microsoft allows you to trade-in certain online coupons for products. (For example, you can trade off free services as well. How much profit am I likely to reap from this practice?)\n",
            "\n",
            "2. You only get results when you make calls\n",
            "\n",
            "The main focus of the Microsoft SMB Team is to engage prospects with online marketing calls so that they call your phone. They call them back, try to sell them the products you offer them, and then go on to promote the products.\n",
            "\n",
            "This means that only a very small percentage of companies actually reach out for calls if they're interested in buying your product – for example salespeople that can't make a big dent in your numbers.\n",
            "\n",
            "While the SMB Team is great for getting people to contact you, this doesn't mean there's no value in sending out calls with value.\n",
            "\n",
            "To achieve this, you need to have a good set of calls – this can involve more calls to other calls, even more calls to calls from different callers, and so on.\n",
            "\n",
            "Some companies that are great at online marketing have dedicated teams of dedicated calls where people are directed to do particular tasks that you do for them. These calls serve as a way of showing what you offer and making them pay for you. Microsoft has one of these calls dedicated to selling Microsoft Office and Skype and, again, that's pretty good value for money if you're looking to do something cool.\n",
            "\n",
            "3. Call quality is just awful\n",
            "\n",
            "A big problem with Microsoft's online marketing is call quality. People are calling about anything and everything on this website – and not only is your customer service poor. Your phone calls may go wrong, maybe a person is calling to ask a question they don't have the space to say. Or you might have people spam you with e-mails that simply say \"Sorry I'm busy. I'm sorry I've never called you before.\"\n",
            "\n",
            "Call quality isn't that great either. That the quality of calls from customers is generally poor means that most of your calls will end with you saying \"Sorry.\" And that's usually why customers won't make sales calls – they want your customer service, but they're not comfortable speaking to you about it.\n",
            "\n",
            "4. People call you in your office… and you make zero calls\n",
            "\n",
            "\n",
            "Some organizations might have to sell their salespeople, and for a reason they don't want to disclose. Microsoft gives this reason in the form of a \"free call\" – so you get a few calls if someone shows up in person who can sell your product (and that's usually the case).\n",
            "\n",
            "But all these free calls also serve an important purpose; they get companies to call.\n",
            "\n",
            "At this point you should probably stop calling them and tell them that it's not worthwhile working with you because you're not as valuable to your customers as they say. Of course, they might be willing to do you a favor by calling back.\n",
            "\n",
            "But here's a trick: call them back with a \"good day\" to say that you're working hard and that you expect to be back by this Friday. That gives them the incentive to stop with the calls and come to\n",
            "======================================== SAMPLE 3 ========================================\n",
            "Here's how to get ready to jump into Star Wars Galaxies with some awesome prizes and free game downloads!\n",
            "\n",
            "I just hit the 100 subscriber bonus! That means you can now play all of the new expansion content.\n",
            "\n",
            "A few lucky backers got some of the awesome bonus content from these awesome giveaways:\n",
            "\n",
            "Star Wars: Galaxy of Heroes Expansion Pack\n",
            "\n",
            "Star Wars: Galaxies Core Collection Bundle\n",
            "\n",
            "Star Wars: The CardGame Core Set Starter Pack\n",
            "\n",
            "Star Wars: Galaxies Starfighter Bundle\n",
            "\n",
            "In between the Star Wars Galaxies Free Game Pack and the Star Wars Galaxies Core Set Starter Pack, there's also some interesting stuff you'll also find in the freebies.\n",
            "\n",
            "A collection of new character artwork for each Galactic Empire race! With all of these awesome Star Wars galactic heroes at your disposal, it's the perfect way to spend time with your favorite character from the films.\n",
            "\n",
            "A free download of Star Wars: The Force Unleashed – Galactic Alliance expansion packs (the only freebie of the pack).\n",
            "\n",
            "And just for fun … a Star Wars: The Force Unleashed – Galactic Alliance bundle!\n",
            "\n",
            "What were your favorite aspects of Star Wars Galaxies?\n",
            "\n",
            "Cheers to Star Wars Fanatics for the giveaway details!<|endoftext|>From UniWiki\n",
            "\n",
            "Guild Characteristics - PTR Release This is a new feature. No existing guild, or alliance, can register an item in this system at this time. It will work only for the PTR.\n",
            "\n",
            "If you are planning to do this, you should know that an account that has all items in it in the database can be used as an account in this system without having any problems with your existing balance.\n",
            "\n",
            "\n",
            "A copy of the PTR (as of patch 11) for PTR is required to use this new account feature. Please refer to this link for details.\n",
            "\n",
            "List of Guild Characters\n",
            "\n",
            "A member of an existing corporation/alliance has the same character as the current CEO of that corporation. The corporation/alliance's characters are stored on the corporation's profile page (not the account's profile page). The profile for the new corporation doesn't exist yet, so make sure your account hasn't been created yet. You can edit your profile in your FC with the Corp Profile button, just like you would normally do with FC actions.\n",
            "\n",
            "Guilds of characters that you're not actually part of still have the same inventory inventory. This can be used to change from one account to another and vice versa.\n",
            "\n",
            "For the first time, guilds of characters are able to log on to the same corporation/alliance.\n",
            "\n",
            "Guilds now require at least 1 logon in order to be added to an Alliance-only corporation. If you already have an Alliance-only corporation, you still need to log on to join the new corporation's roster. For the first time, guilds of characters are able to log on to the same corporation.Guilds now require at least 1 logon in order to be added to an Alliance-only corporation. If you already have an Alliance-only corporation, you still need to log on to join the new corporation's roster.\n",
            "\n",
            "Guild Members, Groups, and Players are now represented as subgroups on your profile. Each group member has their own account, a custom color, and a new custom UI icon that appears when you enter characters' names.\n",
            "\n",
            "When a guild uses someone else's name in name search results, the default search engine (LMAO) now supports the use of the same name search as the guild's name. For example, if a guild was searching for Alliance members of an EVE Online group using the name 'Gnoll' it would only see an empty message (and that's not ideal, since the same name search would show other members of the same group). When using the default search engine option or joining as another group, instead of seeing an image of the current member's name, LMAO will select the word \"Gnoll\" (this is the only word displayed). It is not guaranteed that LMAO's default search engine options are correct - it may take a few minutes for it to process more than one name search without encountering issues, so please be patient while it runs!\n",
            "\n",
            "When you join another account, a new icon will appear for your account's guild and all members of that account. Guild members, groups, and members of those accounts can search for each other via in-game chat.\n",
            "\n",
            "Guild/Alliance-only characters are no longer able to create accounts and can't join their guild using new accounts.\n",
            "\n",
            "The size of the active inventory of each of the accounts can be configured in the Logon tab. You can adjust the size of the character's Inventory on the Logon tab.\n",
            "\n",
            "Items on which guild and alliance characters are not matched up within a group or corp are displayed as blank when one player enters the inventory of another player. You\n"
          ],
          "name": "stdout"
        }
      ]
    }
  ]
}